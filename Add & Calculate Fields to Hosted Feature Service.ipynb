{
 "cells": [
  {
   "cell_type": "markdown",
   "metadata": {},
   "source": [
    "## Add & Calculate Fields to Hosted Feature Service\n",
    "Add fields to a hosted feature service in ArcGIS Online and calculate values for those fields."
   ]
  },
  {
   "cell_type": "markdown",
   "metadata": {},
   "source": [
    "### Import the GIS module"
   ]
  },
  {
   "cell_type": "code",
   "execution_count": 31,
   "metadata": {},
   "outputs": [],
   "source": [
    "import getpass\n",
    "from arcgis import GIS"
   ]
  },
  {
   "cell_type": "markdown",
   "metadata": {},
   "source": [
    "### Connect to your Organization"
   ]
  },
  {
   "cell_type": "code",
   "execution_count": 34,
   "metadata": {},
   "outputs": [
    {
     "name": "stdout",
     "output_type": "stream",
     "text": [
      "Username: apfister_EsriAidDev\n",
      "Password: ········\n",
      "sucessfully logged in.\n"
     ]
    }
   ],
   "source": [
    "user_name = input('Username: ')\n",
    "password = getpass.getpass('Password: ')\n",
    "arcgis_url = 'https://www.arcgis.com'\n",
    "\n",
    "gis = GIS(arcgis_url,user_name, password)\n",
    "print ('sucessfully logged in.')"
   ]
  },
  {
   "cell_type": "markdown",
   "metadata": {},
   "source": [
    "### Get the Item in ArcGIS Online that has your Feature Layer"
   ]
  },
  {
   "cell_type": "code",
   "execution_count": null,
   "metadata": {},
   "outputs": [],
   "source": [
    "item_id = '487351df8d704c788eb64fe390a29c33'\n",
    "item = gis.content.get(item_id)"
   ]
  },
  {
   "cell_type": "markdown",
   "metadata": {},
   "source": [
    "### Get the Feature Layer object \n",
    "This gives you access to the [FeatureLayerManager](https://esri.github.io/arcgis-python-api/apidoc/html/arcgis.features.managers.html#featurelayermanager), which in turn, lets you apply the new fields via its `add_to_definition()` method \n",
    "[Feature Layer API Doc](https://esri.github.io/arcgis-python-api/apidoc/html/arcgis.features.toc.html#featurelayer)"
   ]
  },
  {
   "cell_type": "code",
   "execution_count": null,
   "metadata": {},
   "outputs": [],
   "source": [
    "fl = item.layers[0]"
   ]
  },
  {
   "cell_type": "markdown",
   "metadata": {},
   "source": [
    "### In this example, we are adding two fields to hold the Latitude and Longitude of each feature"
   ]
  },
  {
   "cell_type": "code",
   "execution_count": null,
   "metadata": {},
   "outputs": [],
   "source": [
    "new_fields = [\n",
    "    { 'alias': 'Lat', 'name': 'Latitude', 'type': 'esriFieldTypeDouble'},\n",
    "    { 'alias': 'Lon', 'name': 'Longitude', 'type': 'esriFieldTypeDouble'}\n",
    "]\n",
    "fl.manager.add_to_definition({'fields': new_fields})"
   ]
  },
  {
   "cell_type": "markdown",
   "metadata": {},
   "source": [
    "### Calculate the values for the newly added fields"
   ]
  },
  {
   "cell_type": "markdown",
   "metadata": {},
   "source": [
    "First, we'll run a simply query for all the features"
   ]
  },
  {
   "cell_type": "code",
   "execution_count": null,
   "metadata": {},
   "outputs": [],
   "source": [
    "fset = fl.query(out_sr=4326)\n",
    "len(fset.features)"
   ]
  },
  {
   "cell_type": "markdown",
   "metadata": {},
   "source": [
    "Next, we loop through the returned features, grab the geometry for each, set the Lat/Lon to the newly added fields, and finally store each feature in an array to pass along."
   ]
  },
  {
   "cell_type": "code",
   "execution_count": null,
   "metadata": {},
   "outputs": [],
   "source": [
    "edits = []\n",
    "for f in fset.features:\n",
    "    m_geom = f.geometry['points']\n",
    "    lon = m_geom[0][0]\n",
    "    lat = m_geom[0][1]\n",
    "    \n",
    "    f.attributes['Longitude'] = lon\n",
    "    f.attributes['Latitude'] = lat\n",
    "    \n",
    "    edits.append(f)\n"
   ]
  },
  {
   "cell_type": "markdown",
   "metadata": {},
   "source": [
    "### Apply the edits to the Feature Layer"
   ]
  },
  {
   "cell_type": "code",
   "execution_count": null,
   "metadata": {},
   "outputs": [],
   "source": [
    "fl.edit_features(updates=edits)"
   ]
  }
 ],
 "metadata": {
  "kernelspec": {
   "display_name": "Python 3",
   "language": "python",
   "name": "python3"
  },
  "language_info": {
   "codemirror_mode": {
    "name": "ipython",
    "version": 3
   },
   "file_extension": ".py",
   "mimetype": "text/x-python",
   "name": "python",
   "nbconvert_exporter": "python",
   "pygments_lexer": "ipython3",
   "version": "3.6.1"
  }
 },
 "nbformat": 4,
 "nbformat_minor": 2
}
